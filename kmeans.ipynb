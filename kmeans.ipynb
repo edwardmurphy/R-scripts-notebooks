{
 "cells": [
  {
   "cell_type": "code",
   "execution_count": 3,
   "metadata": {
    "collapsed": false,
    "scrolled": true
   },
   "outputs": [
    {
     "name": "stdout",
     "output_type": "stream",
     "text": [
      "The rpy2.ipython extension is already loaded. To reload it, use:\n",
      "  %reload_ext rpy2.ipython\n"
     ]
    }
   ],
   "source": [
    "%load_ext rpy2.ipython"
   ]
  },
  {
   "cell_type": "code",
   "execution_count": 2,
   "metadata": {
    "collapsed": false
   },
   "outputs": [
    {
     "ename": "SyntaxError",
     "evalue": "invalid syntax (<ipython-input-2-53d73741804c>, line 8)",
     "output_type": "error",
     "traceback": [
      "\u001b[1;36m  File \u001b[1;32m\"<ipython-input-2-53d73741804c>\"\u001b[1;36m, line \u001b[1;32m8\u001b[0m\n\u001b[1;33m    plot(x, col = cl$cluster)\u001b[0m\n\u001b[1;37m                    ^\u001b[0m\n\u001b[1;31mSyntaxError\u001b[0m\u001b[1;31m:\u001b[0m invalid syntax\n"
     ]
    }
   ],
   "source": [
    "%R\n",
    "\n",
    "### A simple 2-dimensional example from R \n",
    "\n",
    "x <- rbind(matrix(rnorm(100, sd = 0.3), ncol = 2),\n",
    "           matrix(rnorm(100, mean = 1, sd = 0.3), ncol = 2))\n",
    "cl <- kmeans(x, 2, 20)\n",
    "plot(x, col = cl$cluster)\n",
    "points(cl$centers, col = 1:2, pch = 8)\n",
    "\n",
    "\n",
    "### Determining the number of clusters $K$\n",
    "\n",
    "x <- rbind(matrix(rnorm(100, sd = 0.3), ncol = 2),\n",
    "           matrix(rnorm(100, mean = 1, sd = 0.3), ncol = 2),\n",
    "           matrix(rnorm(100, mean = 2, sd = 0.3), ncol = 2))\n",
    "\n",
    "cl2 <- kmeans(x, 2, 20)\n",
    "cl3 <- kmeans(x,3,20)\n",
    "cl4 <- kmeans(x,4,20)\n",
    "cl5 <- kmeans(x,5,20)\n",
    "cl6 <- kmeans(x,6,20)\n",
    "\n",
    "wc2 <- sum(cl2$withinss)\n",
    "wc3 <- sum(cl3$withinss)\n",
    "wc4 <- sum(cl4$withinss)\n",
    "wc5 <- sum(cl5$withinss)\n",
    "wc6 <- sum(cl6$withinss)\n",
    "\n",
    "plot(c(2:6),c(wc2,wc3,wc4,wc5,wc6),xlab=\"Number of clusters\",\n",
    "   ylab=\"Sum of squares\",type=\"o\")\n",
    "lines(c(2:6),c(wc2,wc3,wc4,wc5,wc6))"
   ]
  },
  {
   "cell_type": "code",
   "execution_count": null,
   "metadata": {
    "collapsed": true
   },
   "outputs": [],
   "source": []
  }
 ],
 "metadata": {
  "anaconda-cloud": {},
  "kernelspec": {
   "display_name": "Python 2",
   "language": "python",
   "name": "python2"
  },
  "language_info": {
   "codemirror_mode": {
    "name": "ipython",
    "version": 2
   },
   "file_extension": ".py",
   "mimetype": "text/x-python",
   "name": "python",
   "nbconvert_exporter": "python",
   "pygments_lexer": "ipython2",
   "version": "2.7.12"
  }
 },
 "nbformat": 4,
 "nbformat_minor": 1
}
